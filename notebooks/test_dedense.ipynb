{
 "cells": [
  {
   "cell_type": "code",
   "execution_count": 1,
   "metadata": {
    "collapsed": false
   },
   "outputs": [
    {
     "name": "stderr",
     "output_type": "stream",
     "text": [
      "Using Theano backend.\n"
     ]
    }
   ],
   "source": [
    "# -*- coding: utf-8 -*-\n",
    "from __future__ import absolute_import\n",
    "from keras.layers import Input, Dense\n",
    "from keras.models import Layer, Model\n",
    "\n",
    "from keras.optimizers import SGD, Nadam\n",
    "\n",
    "import keras.backend as K\n",
    "import numpy as np\n",
    "seed=6\n",
    "np.random.seed(seed)"
   ]
  },
  {
   "cell_type": "code",
   "execution_count": 2,
   "metadata": {
    "collapsed": true
   },
   "outputs": [],
   "source": [
    "aa_length=50\n",
    "nb_filter=20"
   ]
  },
  {
   "cell_type": "code",
   "execution_count": 3,
   "metadata": {
    "collapsed": false
   },
   "outputs": [],
   "source": [
    "dense = Dense(output_dim=nb_filter, init='glorot_uniform', activation='sigmoid')"
   ]
  },
  {
   "cell_type": "code",
   "execution_count": null,
   "metadata": {
    "collapsed": false
   },
   "outputs": [],
   "source": []
  },
  {
   "cell_type": "code",
   "execution_count": 4,
   "metadata": {
    "collapsed": false
   },
   "outputs": [],
   "source": [
    "from keras import activations, initializations, regularizers, constraints\n",
    "from keras.engine import InputSpec\n",
    "from keras.utils.np_utils import conv_output_length\n",
    "\n",
    "\n",
    "class Dedense(Layer):\n",
    "\n",
    "    def __init__(self, bound_dense_layer, init='glorot_uniform', activation='linear', weights=None,\n",
    "                 W_regularizer=None, b_regularizer=None, activity_regularizer=None,\n",
    "                 W_constraint=None, b_constraint=None,\n",
    "                 bias=True, input_dim=None, **kwargs):\n",
    "        self.init = initializations.get(init)\n",
    "        self.activation = activations.get(activation)\n",
    "        \n",
    "        self._bound_dense_layer = bound_dense_layer\n",
    "        \n",
    "        try:\n",
    "            self.output_dim = self._bound_conv_layer.input_shape[0]\n",
    "        except Exception:\n",
    "            self.output_dim = 'Not sure yet, input shape of dense layer not provided during construction.'        \n",
    "        \n",
    "        self.input_dim = input_dim\n",
    "\n",
    "        self.W_regularizer = regularizers.get(W_regularizer)\n",
    "        self.b_regularizer = regularizers.get(b_regularizer)\n",
    "        self.activity_regularizer = regularizers.get(activity_regularizer)\n",
    "\n",
    "        self.W_constraint = constraints.get(W_constraint)\n",
    "        self.b_constraint = constraints.get(b_constraint)\n",
    "\n",
    "        self.bias = bias\n",
    "        self.initial_weights = weights\n",
    "        self.input_spec = [InputSpec(ndim=2)]\n",
    "\n",
    "        if self.input_dim:\n",
    "            kwargs['input_shape'] = (self.input_dim,)\n",
    "        super(Dedense, self).__init__(**kwargs)\n",
    "\n",
    "    def build(self, input_shape):\n",
    "        assert len(input_shape) == 2\n",
    "        input_dim = input_shape[1]\n",
    "        self.input_spec = [InputSpec(dtype=K.floatx(),\n",
    "                                     shape=(None, input_dim))]\n",
    "        \n",
    "        self.output_dim = self._bound_dense_layer.input_shape[1]\n",
    "        self.W = self._bound_dense_layer.W.T\n",
    "        \n",
    "        if self.bias:\n",
    "            self.b = K.zeros((self.output_dim,),\n",
    "                             name='{}_b'.format(self.name))\n",
    "            self.trainable_weights = [self.b]\n",
    "        else:\n",
    "            self.trainable_weights = []\n",
    "\n",
    "        self.regularizers = []\n",
    "        if self.W_regularizer:\n",
    "            self.W_regularizer.set_param(self.W)\n",
    "            self.regularizers.append(self.W_regularizer)\n",
    "\n",
    "        if self.bias and self.b_regularizer:\n",
    "            self.b_regularizer.set_param(self.b)\n",
    "            self.regularizers.append(self.b_regularizer)\n",
    "\n",
    "        if self.activity_regularizer:\n",
    "            self.activity_regularizer.set_layer(self)\n",
    "            self.regularizers.append(self.activity_regularizer)\n",
    "\n",
    "        self.constraints = {}\n",
    "        if self.W_constraint:\n",
    "            self.constraints[self.W] = self.W_constraint\n",
    "        if self.bias and self.b_constraint:\n",
    "            self.constraints[self.b] = self.b_constraint\n",
    "\n",
    "        if self.initial_weights is not None:\n",
    "            self.set_weights(self.initial_weights)\n",
    "            del self.initial_weights\n",
    "\n",
    "    def call(self, x, mask=None):\n",
    "        output = K.dot(x, self.W)\n",
    "        if self.bias:\n",
    "            output += self.b\n",
    "        return self.activation(output)\n",
    "\n",
    "    def get_output_shape_for(self, input_shape):\n",
    "        assert input_shape and len(input_shape) == 2\n",
    "        return (input_shape[0], self.output_dim)\n",
    "\n",
    "    def get_config(self):\n",
    "        config = {'output_dim': self.output_dim,\n",
    "                  'init': self.init.__name__,\n",
    "                  'activation': self.activation.__name__,\n",
    "                  'W_regularizer': self.W_regularizer.get_config() if self.W_regularizer else None,\n",
    "                  'b_regularizer': self.b_regularizer.get_config() if self.b_regularizer else None,\n",
    "                  'activity_regularizer': self.activity_regularizer.get_config() if self.activity_regularizer else None,\n",
    "                  'W_constraint': self.W_constraint.get_config() if self.W_constraint else None,\n",
    "                  'b_constraint': self.b_constraint.get_config() if self.b_constraint else None,\n",
    "                  'bias': self.bias,\n",
    "                  'input_dim': self.input_dim}\n",
    "        base_config = super(Dedense, self).get_config()\n",
    "        return dict(list(base_config.items()) + list(config.items()))"
   ]
  },
  {
   "cell_type": "code",
   "execution_count": 5,
   "metadata": {
    "collapsed": false
   },
   "outputs": [],
   "source": [
    "dedense = Dedense(dense)"
   ]
  },
  {
   "cell_type": "code",
   "execution_count": 6,
   "metadata": {
    "collapsed": false
   },
   "outputs": [],
   "source": [
    "inp = Input(shape=(aa_length,), name='aa_seq')\n",
    "x_data = np.random.random((10, aa_length))"
   ]
  },
  {
   "cell_type": "code",
   "execution_count": 7,
   "metadata": {
    "collapsed": false
   },
   "outputs": [],
   "source": [
    "x_e = dense(inp)\n",
    "x_d = dedense(x_e)"
   ]
  },
  {
   "cell_type": "code",
   "execution_count": 8,
   "metadata": {
    "collapsed": false
   },
   "outputs": [],
   "source": [
    "coder = Model(input=inp, output=x_d)"
   ]
  },
  {
   "cell_type": "code",
   "execution_count": 9,
   "metadata": {
    "collapsed": false
   },
   "outputs": [
    {
     "data": {
      "text/plain": [
       "1070"
      ]
     },
     "execution_count": 9,
     "metadata": {},
     "output_type": "execute_result"
    }
   ],
   "source": [
    "coder.count_params()"
   ]
  },
  {
   "cell_type": "code",
   "execution_count": 20,
   "metadata": {
    "collapsed": false
   },
   "outputs": [],
   "source": [
    "coder.compile(optimizer=Nadam(lr=0.001), loss='mse')"
   ]
  },
  {
   "cell_type": "code",
   "execution_count": 21,
   "metadata": {
    "collapsed": false
   },
   "outputs": [
    {
     "name": "stdout",
     "output_type": "stream",
     "text": [
      "Epoch 1/100\n",
      "10/10 [==============================] - 0s - loss: 0.0010\n",
      "Epoch 2/100\n",
      "10/10 [==============================] - 0s - loss: 5.0677e-04\n",
      "Epoch 3/100\n",
      "10/10 [==============================] - 0s - loss: 3.5016e-04\n",
      "Epoch 4/100\n",
      "10/10 [==============================] - 0s - loss: 2.8031e-04\n",
      "Epoch 5/100\n",
      "10/10 [==============================] - 0s - loss: 2.4880e-04\n",
      "Epoch 6/100\n",
      "10/10 [==============================] - 0s - loss: 2.3678e-04\n",
      "Epoch 7/100\n",
      "10/10 [==============================] - 0s - loss: 2.3314e-04\n",
      "Epoch 8/100\n",
      "10/10 [==============================] - 0s - loss: 2.3240e-04\n",
      "Epoch 9/100\n",
      "10/10 [==============================] - 0s - loss: 2.3198e-04\n",
      "Epoch 10/100\n",
      "10/10 [==============================] - 0s - loss: 2.3169e-04\n",
      "Epoch 11/100\n",
      "10/10 [==============================] - 0s - loss: 2.3179e-04\n",
      "Epoch 12/100\n",
      "10/10 [==============================] - 0s - loss: 2.3327e-04\n",
      "Epoch 13/100\n",
      "10/10 [==============================] - 0s - loss: 2.3587e-04\n",
      "Epoch 14/100\n",
      "10/10 [==============================] - 0s - loss: 2.3857e-04\n",
      "Epoch 15/100\n",
      "10/10 [==============================] - 0s - loss: 2.3873e-04\n",
      "Epoch 16/100\n",
      "10/10 [==============================] - 0s - loss: 2.3522e-04\n",
      "Epoch 17/100\n",
      "10/10 [==============================] - 0s - loss: 2.3185e-04\n",
      "Epoch 18/100\n",
      "10/10 [==============================] - 0s - loss: 2.2880e-04\n",
      "Epoch 19/100\n",
      "10/10 [==============================] - 0s - loss: 2.2536e-04\n",
      "Epoch 20/100\n",
      "10/10 [==============================] - 0s - loss: 2.2123e-04\n",
      "Epoch 21/100\n",
      "10/10 [==============================] - 0s - loss: 2.1771e-04\n",
      "Epoch 22/100\n",
      "10/10 [==============================] - 0s - loss: 2.1470e-04\n",
      "Epoch 23/100\n",
      "10/10 [==============================] - 0s - loss: 2.1235e-04\n",
      "Epoch 24/100\n",
      "10/10 [==============================] - 0s - loss: 2.1041e-04\n",
      "Epoch 25/100\n",
      "10/10 [==============================] - 0s - loss: 2.0887e-04\n",
      "Epoch 26/100\n",
      "10/10 [==============================] - 0s - loss: 2.0761e-04\n",
      "Epoch 27/100\n",
      "10/10 [==============================] - 0s - loss: 2.0665e-04\n",
      "Epoch 28/100\n",
      "10/10 [==============================] - 0s - loss: 2.0593e-04\n",
      "Epoch 29/100\n",
      "10/10 [==============================] - 0s - loss: 2.0550e-04\n",
      "Epoch 30/100\n",
      "10/10 [==============================] - 0s - loss: 2.0529e-04\n",
      "Epoch 31/100\n",
      "10/10 [==============================] - 0s - loss: 2.0541e-04\n",
      "Epoch 32/100\n",
      "10/10 [==============================] - 0s - loss: 2.0573e-04\n",
      "Epoch 33/100\n",
      "10/10 [==============================] - 0s - loss: 2.0642e-04\n",
      "Epoch 34/100\n",
      "10/10 [==============================] - 0s - loss: 2.0716e-04\n",
      "Epoch 35/100\n",
      "10/10 [==============================] - 0s - loss: 2.0819e-04\n",
      "Epoch 36/100\n",
      "10/10 [==============================] - 0s - loss: 2.0896e-04\n",
      "Epoch 37/100\n",
      "10/10 [==============================] - 0s - loss: 2.0993e-04\n",
      "Epoch 38/100\n",
      "10/10 [==============================] - 0s - loss: 2.1034e-04\n",
      "Epoch 39/100\n",
      "10/10 [==============================] - 0s - loss: 2.1073e-04\n",
      "Epoch 40/100\n",
      "10/10 [==============================] - 0s - loss: 2.0970e-04\n",
      "Epoch 41/100\n",
      "10/10 [==============================] - 0s - loss: 2.0794e-04\n",
      "Epoch 42/100\n",
      "10/10 [==============================] - 0s - loss: 2.0474e-04\n",
      "Epoch 43/100\n",
      "10/10 [==============================] - 0s - loss: 2.0163e-04\n",
      "Epoch 44/100\n",
      "10/10 [==============================] - 0s - loss: 1.9815e-04\n",
      "Epoch 45/100\n",
      "10/10 [==============================] - 0s - loss: 1.9524e-04\n",
      "Epoch 46/100\n",
      "10/10 [==============================] - 0s - loss: 1.9242e-04\n",
      "Epoch 47/100\n",
      "10/10 [==============================] - 0s - loss: 1.9018e-04\n",
      "Epoch 48/100\n",
      "10/10 [==============================] - 0s - loss: 1.8809e-04\n",
      "Epoch 49/100\n",
      "10/10 [==============================] - 0s - loss: 1.8645e-04\n",
      "Epoch 50/100\n",
      "10/10 [==============================] - 0s - loss: 1.8494e-04\n",
      "Epoch 51/100\n",
      "10/10 [==============================] - 0s - loss: 1.8377e-04\n",
      "Epoch 52/100\n",
      "10/10 [==============================] - 0s - loss: 1.8269e-04\n",
      "Epoch 53/100\n",
      "10/10 [==============================] - 0s - loss: 1.8191e-04\n",
      "Epoch 54/100\n",
      "10/10 [==============================] - 0s - loss: 1.8119e-04\n",
      "Epoch 55/100\n",
      "10/10 [==============================] - 0s - loss: 1.8075e-04\n",
      "Epoch 56/100\n",
      "10/10 [==============================] - 0s - loss: 1.8034e-04\n",
      "Epoch 57/100\n",
      "10/10 [==============================] - 0s - loss: 1.8018e-04\n",
      "Epoch 58/100\n",
      "10/10 [==============================] - 0s - loss: 1.7996e-04\n",
      "Epoch 59/100\n",
      "10/10 [==============================] - 0s - loss: 1.7995e-04\n",
      "Epoch 60/100\n",
      "10/10 [==============================] - 0s - loss: 1.7973e-04\n",
      "Epoch 61/100\n",
      "10/10 [==============================] - 0s - loss: 1.7967e-04\n",
      "Epoch 62/100\n",
      "10/10 [==============================] - 0s - loss: 1.7932e-04\n",
      "Epoch 63/100\n",
      "10/10 [==============================] - 0s - loss: 1.7915e-04\n",
      "Epoch 64/100\n",
      "10/10 [==============================] - 0s - loss: 1.7868e-04\n",
      "Epoch 65/100\n",
      "10/10 [==============================] - 0s - loss: 1.7844e-04\n",
      "Epoch 66/100\n",
      "10/10 [==============================] - 0s - loss: 1.7789e-04\n",
      "Epoch 67/100\n",
      "10/10 [==============================] - 0s - loss: 1.7761e-04\n",
      "Epoch 68/100\n",
      "10/10 [==============================] - 0s - loss: 1.7701e-04\n",
      "Epoch 69/100\n",
      "10/10 [==============================] - 0s - loss: 1.7672e-04\n",
      "Epoch 70/100\n",
      "10/10 [==============================] - 0s - loss: 1.7614e-04\n",
      "Epoch 71/100\n",
      "10/10 [==============================] - 0s - loss: 1.7593e-04\n",
      "Epoch 72/100\n",
      "10/10 [==============================] - 0s - loss: 1.7550e-04\n",
      "Epoch 73/100\n",
      "10/10 [==============================] - 0s - loss: 1.7557e-04\n",
      "Epoch 74/100\n",
      "10/10 [==============================] - 0s - loss: 1.7549e-04\n",
      "Epoch 75/100\n",
      "10/10 [==============================] - 0s - loss: 1.7603e-04\n",
      "Epoch 76/100\n",
      "10/10 [==============================] - 0s - loss: 1.7642e-04\n",
      "Epoch 77/100\n",
      "10/10 [==============================] - 0s - loss: 1.7753e-04\n",
      "Epoch 78/100\n",
      "10/10 [==============================] - 0s - loss: 1.7836e-04\n",
      "Epoch 79/100\n",
      "10/10 [==============================] - 0s - loss: 1.7975e-04\n",
      "Epoch 80/100\n",
      "10/10 [==============================] - 0s - loss: 1.7995e-04\n",
      "Epoch 81/100\n",
      "10/10 [==============================] - 0s - loss: 1.7955e-04\n",
      "Epoch 82/100\n",
      "10/10 [==============================] - 0s - loss: 1.7695e-04\n",
      "Epoch 83/100\n",
      "10/10 [==============================] - 0s - loss: 1.7385e-04\n",
      "Epoch 84/100\n",
      "10/10 [==============================] - 0s - loss: 1.6969e-04\n",
      "Epoch 85/100\n",
      "10/10 [==============================] - 0s - loss: 1.6606e-04\n",
      "Epoch 86/100\n",
      "10/10 [==============================] - 0s - loss: 1.6244e-04\n",
      "Epoch 87/100\n",
      "10/10 [==============================] - 0s - loss: 1.5957e-04\n",
      "Epoch 88/100\n",
      "10/10 [==============================] - 0s - loss: 1.5695e-04\n",
      "Epoch 89/100\n",
      "10/10 [==============================] - 0s - loss: 1.5492e-04\n",
      "Epoch 90/100\n",
      "10/10 [==============================] - 0s - loss: 1.5312e-04\n",
      "Epoch 91/100\n",
      "10/10 [==============================] - 0s - loss: 1.5171e-04\n",
      "Epoch 92/100\n",
      "10/10 [==============================] - 0s - loss: 1.5047e-04\n",
      "Epoch 93/100\n",
      "10/10 [==============================] - 0s - loss: 1.4951e-04\n",
      "Epoch 94/100\n",
      "10/10 [==============================] - 0s - loss: 1.4868e-04\n",
      "Epoch 95/100\n",
      "10/10 [==============================] - 0s - loss: 1.4810e-04\n",
      "Epoch 96/100\n",
      "10/10 [==============================] - 0s - loss: 1.4764e-04\n",
      "Epoch 97/100\n",
      "10/10 [==============================] - 0s - loss: 1.4746e-04\n",
      "Epoch 98/100\n",
      "10/10 [==============================] - 0s - loss: 1.4743e-04\n",
      "Epoch 99/100\n",
      "10/10 [==============================] - 0s - loss: 1.4776e-04\n",
      "Epoch 100/100\n",
      "10/10 [==============================] - 0s - loss: 1.4831e-04\n"
     ]
    },
    {
     "data": {
      "text/plain": [
       "<keras.callbacks.History at 0x1115a9fd0>"
      ]
     },
     "execution_count": 21,
     "metadata": {},
     "output_type": "execute_result"
    }
   ],
   "source": [
    "coder.fit(x_data, x_data, nb_epoch=100)"
   ]
  },
  {
   "cell_type": "code",
   "execution_count": 22,
   "metadata": {
    "collapsed": false
   },
   "outputs": [
    {
     "name": "stdout",
     "output_type": "stream",
     "text": [
      "[ 0.89286015  0.33197981  0.82122912  0.04169663  0.10765668  0.59505206\n",
      "  0.52981736  0.41880743  0.33540785  0.62251943  0.43814143  0.73588211\n",
      "  0.51803641  0.5788586   0.6453551   0.99022427  0.8198582   0.41320093\n",
      "  0.87626766  0.82375943  0.05447451  0.71863724  0.80217056  0.73640664\n",
      "  0.70913175  0.54093685  0.12482417  0.9576473   0.4032563   0.21695116\n",
      "  0.71727585  0.99420744  0.25561406  0.67130943  0.59900591  0.71733215\n",
      "  0.93734953  0.35180977  0.2536341   0.40247251  0.74651072  0.72407057\n",
      "  0.4061078   0.98937985  0.45049928  0.37380843  0.70962861  0.08245855\n",
      "  0.39837292  0.77088097]\n",
      "[ 0.88782948  0.30225784  0.80226415  0.04064508  0.1059496   0.59051514\n",
      "  0.52358276  0.39128494  0.32890975  0.61118323  0.42572653  0.72776437\n",
      "  0.49785265  0.57518721  0.64433932  0.98385829  0.80992067  0.38780922\n",
      "  0.83627772  0.80940825  0.04999152  0.70816571  0.77912211  0.73862946\n",
      "  0.71417922  0.52391803  0.11557958  0.93964916  0.37638783  0.20576182\n",
      "  0.69508624  0.95463437  0.24484947  0.65408778  0.58637506  0.70499903\n",
      "  0.93167889  0.33170441  0.24609362  0.40635517  0.73510891  0.71447098\n",
      "  0.39562577  0.96205556  0.43833292  0.35913348  0.71073812  0.07711118\n",
      "  0.3882862   0.75685459]\n",
      "10/10 [==============================] - 0s\n",
      "0.000149348095874\n"
     ]
    }
   ],
   "source": [
    "print(x_data.squeeze()[0])\n",
    "print(coder.predict(x_data).squeeze()[0])\n",
    "print(coder.evaluate(x_data, x_data))"
   ]
  },
  {
   "cell_type": "code",
   "execution_count": 23,
   "metadata": {
    "collapsed": false
   },
   "outputs": [
    {
     "data": {
      "text/plain": [
       "0.00014934808"
      ]
     },
     "execution_count": 23,
     "metadata": {},
     "output_type": "execute_result"
    }
   ],
   "source": [
    "np.mean(np.square(x_data-coder.predict(x_data)), dtype=np.float32)"
   ]
  },
  {
   "cell_type": "code",
   "execution_count": null,
   "metadata": {
    "collapsed": true
   },
   "outputs": [],
   "source": []
  }
 ],
 "metadata": {
  "kernelspec": {
   "display_name": "Python 3",
   "language": "python",
   "name": "python3"
  },
  "language_info": {
   "codemirror_mode": {
    "name": "ipython",
    "version": 3
   },
   "file_extension": ".py",
   "mimetype": "text/x-python",
   "name": "python",
   "nbconvert_exporter": "python",
   "pygments_lexer": "ipython3",
   "version": "3.5.2"
  }
 },
 "nbformat": 4,
 "nbformat_minor": 0
}
