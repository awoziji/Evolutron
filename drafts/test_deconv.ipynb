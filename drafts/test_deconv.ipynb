{
 "cells": [
  {
   "cell_type": "code",
   "execution_count": 1,
   "metadata": {
    "collapsed": false
   },
   "outputs": [
    {
     "name": "stderr",
     "output_type": "stream",
     "text": [
      "Using Theano backend.\n"
     ]
    }
   ],
   "source": [
    "# -*- coding: utf-8 -*-\n",
    "from __future__ import absolute_import\n",
    "from keras.layers import Input, Convolution1D, MaxPooling1D, Dense, Flatten, Reshape, UpSampling1D, Dropout\n",
    "from keras.models import Layer, Model\n",
    "\n",
    "from keras.optimizers import SGD\n",
    "\n",
    "import keras.backend as K\n",
    "import numpy as np\n",
    "seed=6\n",
    "np.random.seed(seed)"
   ]
  },
  {
   "cell_type": "code",
   "execution_count": 2,
   "metadata": {
    "collapsed": true
   },
   "outputs": [],
   "source": [
    "aa_length=10\n",
    "filter_length=3\n",
    "nb_filter=5"
   ]
  },
  {
   "cell_type": "code",
   "execution_count": 3,
   "metadata": {
    "collapsed": false
   },
   "outputs": [],
   "source": [
    "conv = Convolution1D(nb_filter, filter_length,\n",
    "                               init='glorot_normal',\n",
    "                               activation='relu',\n",
    "                               border_mode='same',\n",
    "                               name='Conv1')"
   ]
  },
  {
   "cell_type": "code",
   "execution_count": 4,
   "metadata": {
    "collapsed": false
   },
   "outputs": [],
   "source": [
    "from keras import activations, initializations, regularizers, constraints\n",
    "from keras.engine import InputSpec\n",
    "from keras.utils.np_utils import conv_output_length\n",
    "\n",
    "\n",
    "class Deconvolution1D(Layer):\n",
    "\n",
    "    def __init__(self, bound_conv_layer,\n",
    "                 init='uniform', activation='linear', weights=None, subsample_length=1,\n",
    "                 W_regularizer=None, b_regularizer=None, activity_regularizer=None,\n",
    "                 W_constraint=None, b_constraint=None,\n",
    "                 bias=True, input_dim=None, input_length=None, **kwargs):\n",
    "\n",
    "        if 'border_mode' in kwargs:\n",
    "            raise Exception('Border mode is infered from Conv Layer')\n",
    "\n",
    "        self._bound_conv_layer = bound_conv_layer\n",
    "        try:\n",
    "            self.nb_filter = self._bound_conv_layer.input_shape[2]\n",
    "        except Exception:\n",
    "            self.nb_filter = 'Not sure yet, input shape of convolutional layer not provided during construction.'\n",
    "        self.filter_length = self._bound_conv_layer.filter_length\n",
    "        self.border_mode = self._bound_conv_layer.border_mode\n",
    "\n",
    "        self.init = initializations.get(init, dim_ordering='th')\n",
    "        self.activation = activations.get(activation)\n",
    "        self.subsample_length = subsample_length\n",
    "\n",
    "        self.subsample = (subsample_length, 1)\n",
    "\n",
    "        self.W_regularizer = regularizers.get(W_regularizer)\n",
    "        self.b_regularizer = regularizers.get(b_regularizer)\n",
    "        self.activity_regularizer = regularizers.get(activity_regularizer)\n",
    "\n",
    "        self.W_constraint = constraints.get(W_constraint)\n",
    "        self.b_constraint = constraints.get(b_constraint)\n",
    "\n",
    "        self.bias = bias\n",
    "        self.input_spec = [InputSpec(ndim=3)]\n",
    "        self.initial_weights = weights\n",
    "        self.input_dim = input_dim\n",
    "        self.input_length = input_length\n",
    "        if self.input_dim:\n",
    "            kwargs['input_shape'] = (self.input_length, self.input_dim)\n",
    "        super(Deconvolution1D, self).__init__(**kwargs)\n",
    "\n",
    "    def build(self, input_shape):\n",
    "        input_dim = input_shape[2]\n",
    "        self.nb_filter = self._bound_conv_layer.input_shape[2]\n",
    "        self.W_shape = (self.filter_length, 1, self.input_dim, self.nb_filter)\n",
    "        self.W = self._bound_conv_layer.W.dimshuffle((0, 1, 3, 2))\n",
    "        if self.bias:\n",
    "            self.b = K.zeros((self.nb_filter,), name='{}_b'.format(self.name))\n",
    "            self.trainable_weights = [self.b]\n",
    "        else:\n",
    "            self.trainable_weights = []\n",
    "        self.regularizers = []\n",
    "\n",
    "        if self.W_regularizer:\n",
    "            self.W_regularizer.set_param(self.W)\n",
    "            self.regularizers.append(self.W_regularizer)\n",
    "\n",
    "        if self.bias and self.b_regularizer:\n",
    "            self.b_regularizer.set_param(self.b)\n",
    "            self.regularizers.append(self.b_regularizer)\n",
    "\n",
    "        if self.activity_regularizer:\n",
    "            self.activity_regularizer.set_layer(self)\n",
    "            self.regularizers.append(self.activity_regularizer)\n",
    "\n",
    "        self.constraints = {}\n",
    "        if self.W_constraint:\n",
    "            self.constraints[self.W] = self.W_constraint\n",
    "        if self.bias and self.b_constraint:\n",
    "            self.constraints[self.b] = self.b_constraint\n",
    "\n",
    "        if self.initial_weights is not None:\n",
    "            self.set_weights(self.initial_weights)\n",
    "            del self.initial_weights\n",
    "\n",
    "    def get_output_shape_for(self, input_shape):\n",
    "        length = conv_output_length(input_shape[1],\n",
    "                                    self.filter_length,\n",
    "                                    self.border_mode,\n",
    "                                    self.subsample[0])\n",
    "        return (input_shape[0], length, self.nb_filter)\n",
    "\n",
    "    def call(self, x, mask=None):\n",
    "        x = K.expand_dims(x, 2)  # add a dummy dimension\n",
    "        output = K.conv2d(x, self.W, strides=self.subsample,\n",
    "                          border_mode=self.border_mode,\n",
    "                          dim_ordering='tf')\n",
    "        output = K.squeeze(output, 2)  # remove the dummy dimension\n",
    "        if self.bias:\n",
    "            output += K.reshape(self.b, (1, 1, self.nb_filter))\n",
    "        output = self.activation(output)\n",
    "        return output\n",
    "\n",
    "    def get_config(self):\n",
    "        config = {'nb_filter': self.nb_filter,\n",
    "                  'filter_length': self.filter_length,\n",
    "                  'init': self.init.__name__,\n",
    "                  'activation': self.activation.__name__,\n",
    "                  'border_mode': self.border_mode,\n",
    "                  'subsample_length': self.subsample_length,\n",
    "                  'W_regularizer': self.W_regularizer.get_config() if self.W_regularizer else None,\n",
    "                  'b_regularizer': self.b_regularizer.get_config() if self.b_regularizer else None,\n",
    "                  'activity_regularizer': self.activity_regularizer.get_config() if self.activity_regularizer else None,\n",
    "                  'W_constraint': self.W_constraint.get_config() if self.W_constraint else None,\n",
    "                  'b_constraint': self.b_constraint.get_config() if self.b_constraint else None,\n",
    "                  'bias': self.bias,\n",
    "                  'input_dim': self.input_dim,\n",
    "                  'input_length': self.input_length}\n",
    "        base_config = super(Deconvolution1D, self).get_config()\n",
    "        return dict(list(base_config.items()) + list(config.items()))"
   ]
  },
  {
   "cell_type": "code",
   "execution_count": 5,
   "metadata": {
    "collapsed": false
   },
   "outputs": [],
   "source": [
    "deconv = Deconvolution1D(conv)"
   ]
  },
  {
   "cell_type": "code",
   "execution_count": 6,
   "metadata": {
    "collapsed": false
   },
   "outputs": [],
   "source": [
    "inp = Input(shape=(aa_length, 1), name='aa_seq')\n",
    "x_data = np.random.random((10, 10, 1))"
   ]
  },
  {
   "cell_type": "code",
   "execution_count": 7,
   "metadata": {
    "collapsed": true
   },
   "outputs": [],
   "source": [
    "x_c = conv(inp)\n",
    "x_d = deconv(x_c)"
   ]
  },
  {
   "cell_type": "code",
   "execution_count": 8,
   "metadata": {
    "collapsed": false
   },
   "outputs": [],
   "source": [
    "coder = Model(input=inp, output=x_d)"
   ]
  },
  {
   "cell_type": "code",
   "execution_count": 9,
   "metadata": {
    "collapsed": false
   },
   "outputs": [
    {
     "data": {
      "text/plain": [
       "21"
      ]
     },
     "execution_count": 9,
     "metadata": {},
     "output_type": "execute_result"
    }
   ],
   "source": [
    "coder.count_params()"
   ]
  },
  {
   "cell_type": "code",
   "execution_count": 10,
   "metadata": {
    "collapsed": false
   },
   "outputs": [],
   "source": [
    "coder.compile(optimizer=SGD(lr=0.1,\n",
    "                            decay=1e-6, momentum=0.9, nesterov=True), loss='mse')"
   ]
  },
  {
   "cell_type": "code",
   "execution_count": 11,
   "metadata": {
    "collapsed": false
   },
   "outputs": [
    {
     "name": "stdout",
     "output_type": "stream",
     "text": [
      "Epoch 1/100\n",
      "10/10 [==============================] - 0s - loss: 0.2153\n",
      "Epoch 2/100\n",
      "10/10 [==============================] - 0s - loss: 0.1129\n",
      "Epoch 3/100\n",
      "10/10 [==============================] - 0s - loss: 0.0982\n",
      "Epoch 4/100\n",
      "10/10 [==============================] - 0s - loss: 0.0685\n",
      "Epoch 5/100\n",
      "10/10 [==============================] - 0s - loss: 0.0578\n",
      "Epoch 6/100\n",
      "10/10 [==============================] - 0s - loss: 0.0523\n",
      "Epoch 7/100\n",
      "10/10 [==============================] - 0s - loss: 0.0484\n",
      "Epoch 8/100\n",
      "10/10 [==============================] - 0s - loss: 0.0455\n",
      "Epoch 9/100\n",
      "10/10 [==============================] - 0s - loss: 0.0429\n",
      "Epoch 10/100\n",
      "10/10 [==============================] - 0s - loss: 0.0403\n",
      "Epoch 11/100\n",
      "10/10 [==============================] - 0s - loss: 0.0377\n",
      "Epoch 12/100\n",
      "10/10 [==============================] - 0s - loss: 0.0350\n",
      "Epoch 13/100\n",
      "10/10 [==============================] - 0s - loss: 0.0323\n",
      "Epoch 14/100\n",
      "10/10 [==============================] - 0s - loss: 0.0295\n",
      "Epoch 15/100\n",
      "10/10 [==============================] - 0s - loss: 0.0269\n",
      "Epoch 16/100\n",
      "10/10 [==============================] - 0s - loss: 0.0244\n",
      "Epoch 17/100\n",
      "10/10 [==============================] - 0s - loss: 0.0223\n",
      "Epoch 18/100\n",
      "10/10 [==============================] - 0s - loss: 0.0208\n",
      "Epoch 19/100\n",
      "10/10 [==============================] - 0s - loss: 0.0197\n",
      "Epoch 20/100\n",
      "10/10 [==============================] - 0s - loss: 0.0188\n",
      "Epoch 21/100\n",
      "10/10 [==============================] - 0s - loss: 0.0178\n",
      "Epoch 22/100\n",
      "10/10 [==============================] - 0s - loss: 0.0164\n",
      "Epoch 23/100\n",
      "10/10 [==============================] - 0s - loss: 0.0148\n",
      "Epoch 24/100\n",
      "10/10 [==============================] - 0s - loss: 0.0133\n",
      "Epoch 25/100\n",
      "10/10 [==============================] - 0s - loss: 0.0120\n",
      "Epoch 26/100\n",
      "10/10 [==============================] - 0s - loss: 0.0109\n",
      "Epoch 27/100\n",
      "10/10 [==============================] - 0s - loss: 0.0099\n",
      "Epoch 28/100\n",
      "10/10 [==============================] - 0s - loss: 0.0090\n",
      "Epoch 29/100\n",
      "10/10 [==============================] - 0s - loss: 0.0083\n",
      "Epoch 30/100\n",
      "10/10 [==============================] - 0s - loss: 0.0075\n",
      "Epoch 31/100\n",
      "10/10 [==============================] - 0s - loss: 0.0068\n",
      "Epoch 32/100\n",
      "10/10 [==============================] - 0s - loss: 0.0060\n",
      "Epoch 33/100\n",
      "10/10 [==============================] - 0s - loss: 0.0054\n",
      "Epoch 34/100\n",
      "10/10 [==============================] - 0s - loss: 0.0047\n",
      "Epoch 35/100\n",
      "10/10 [==============================] - 0s - loss: 0.0042\n",
      "Epoch 36/100\n",
      "10/10 [==============================] - 0s - loss: 0.0037\n",
      "Epoch 37/100\n",
      "10/10 [==============================] - 0s - loss: 0.0033\n",
      "Epoch 38/100\n",
      "10/10 [==============================] - 0s - loss: 0.0029\n",
      "Epoch 39/100\n",
      "10/10 [==============================] - 0s - loss: 0.0026\n",
      "Epoch 40/100\n",
      "10/10 [==============================] - 0s - loss: 0.0023\n",
      "Epoch 41/100\n",
      "10/10 [==============================] - 0s - loss: 0.0020\n",
      "Epoch 42/100\n",
      "10/10 [==============================] - 0s - loss: 0.0017\n",
      "Epoch 43/100\n",
      "10/10 [==============================] - 0s - loss: 0.0015\n",
      "Epoch 44/100\n",
      "10/10 [==============================] - 0s - loss: 0.0014\n",
      "Epoch 45/100\n",
      "10/10 [==============================] - 0s - loss: 0.0012\n",
      "Epoch 46/100\n",
      "10/10 [==============================] - 0s - loss: 0.0011\n",
      "Epoch 47/100\n",
      "10/10 [==============================] - 0s - loss: 9.7842e-04\n",
      "Epoch 48/100\n",
      "10/10 [==============================] - 0s - loss: 9.0156e-04\n",
      "Epoch 49/100\n",
      "10/10 [==============================] - 0s - loss: 8.3806e-04\n",
      "Epoch 50/100\n",
      "10/10 [==============================] - 0s - loss: 7.8678e-04\n",
      "Epoch 51/100\n",
      "10/10 [==============================] - 0s - loss: 7.4277e-04\n",
      "Epoch 52/100\n",
      "10/10 [==============================] - 0s - loss: 7.0474e-04\n",
      "Epoch 53/100\n",
      "10/10 [==============================] - 0s - loss: 6.6827e-04\n",
      "Epoch 54/100\n",
      "10/10 [==============================] - 0s - loss: 6.3570e-04\n",
      "Epoch 55/100\n",
      "10/10 [==============================] - 0s - loss: 6.0724e-04\n",
      "Epoch 56/100\n",
      "10/10 [==============================] - 0s - loss: 5.8125e-04\n",
      "Epoch 57/100\n",
      "10/10 [==============================] - 0s - loss: 5.5555e-04\n",
      "Epoch 58/100\n",
      "10/10 [==============================] - 0s - loss: 5.3101e-04\n",
      "Epoch 59/100\n",
      "10/10 [==============================] - 0s - loss: 5.0753e-04\n",
      "Epoch 60/100\n",
      "10/10 [==============================] - 0s - loss: 4.8591e-04\n",
      "Epoch 61/100\n",
      "10/10 [==============================] - 0s - loss: 4.6522e-04\n",
      "Epoch 62/100\n",
      "10/10 [==============================] - 0s - loss: 4.4446e-04\n",
      "Epoch 63/100\n",
      "10/10 [==============================] - 0s - loss: 4.2425e-04\n",
      "Epoch 64/100\n",
      "10/10 [==============================] - 0s - loss: 4.0500e-04\n",
      "Epoch 65/100\n",
      "10/10 [==============================] - 0s - loss: 3.8661e-04\n",
      "Epoch 66/100\n",
      "10/10 [==============================] - 0s - loss: 3.6909e-04\n",
      "Epoch 67/100\n",
      "10/10 [==============================] - 0s - loss: 3.5244e-04\n",
      "Epoch 68/100\n",
      "10/10 [==============================] - 0s - loss: 3.3668e-04\n",
      "Epoch 69/100\n",
      "10/10 [==============================] - 0s - loss: 3.2183e-04\n",
      "Epoch 70/100\n",
      "10/10 [==============================] - 0s - loss: 3.0737e-04\n",
      "Epoch 71/100\n",
      "10/10 [==============================] - 0s - loss: 2.9366e-04\n",
      "Epoch 72/100\n",
      "10/10 [==============================] - 0s - loss: 2.8060e-04\n",
      "Epoch 73/100\n",
      "10/10 [==============================] - 0s - loss: 2.6799e-04\n",
      "Epoch 74/100\n",
      "10/10 [==============================] - 0s - loss: 2.5620e-04\n",
      "Epoch 75/100\n",
      "10/10 [==============================] - 0s - loss: 2.4520e-04\n",
      "Epoch 76/100\n",
      "10/10 [==============================] - 0s - loss: 2.3497e-04\n",
      "Epoch 77/100\n",
      "10/10 [==============================] - 0s - loss: 2.2542e-04\n",
      "Epoch 78/100\n",
      "10/10 [==============================] - 0s - loss: 2.1634e-04\n",
      "Epoch 79/100\n",
      "10/10 [==============================] - 0s - loss: 2.0788e-04\n",
      "Epoch 80/100\n",
      "10/10 [==============================] - 0s - loss: 2.0003e-04\n",
      "Epoch 81/100\n",
      "10/10 [==============================] - 0s - loss: 1.9162e-04\n",
      "Epoch 82/100\n",
      "10/10 [==============================] - 0s - loss: 1.8320e-04\n",
      "Epoch 83/100\n",
      "10/10 [==============================] - 0s - loss: 1.7516e-04\n",
      "Epoch 84/100\n",
      "10/10 [==============================] - 0s - loss: 1.6759e-04\n",
      "Epoch 85/100\n",
      "10/10 [==============================] - 0s - loss: 1.6048e-04\n",
      "Epoch 86/100\n",
      "10/10 [==============================] - 0s - loss: 1.5380e-04\n",
      "Epoch 87/100\n",
      "10/10 [==============================] - 0s - loss: 1.4753e-04\n",
      "Epoch 88/100\n",
      "10/10 [==============================] - 0s - loss: 1.4167e-04\n",
      "Epoch 89/100\n",
      "10/10 [==============================] - 0s - loss: 1.3618e-04\n",
      "Epoch 90/100\n",
      "10/10 [==============================] - 0s - loss: 1.3067e-04\n",
      "Epoch 91/100\n",
      "10/10 [==============================] - 0s - loss: 1.2492e-04\n",
      "Epoch 92/100\n",
      "10/10 [==============================] - 0s - loss: 1.1949e-04\n",
      "Epoch 93/100\n",
      "10/10 [==============================] - 0s - loss: 1.1434e-04\n",
      "Epoch 94/100\n",
      "10/10 [==============================] - 0s - loss: 1.0946e-04\n",
      "Epoch 95/100\n",
      "10/10 [==============================] - 0s - loss: 1.0488e-04\n",
      "Epoch 96/100\n",
      "10/10 [==============================] - 0s - loss: 1.0070e-04\n",
      "Epoch 97/100\n",
      "10/10 [==============================] - 0s - loss: 9.6765e-05\n",
      "Epoch 98/100\n",
      "10/10 [==============================] - 0s - loss: 9.3126e-05\n",
      "Epoch 99/100\n",
      "10/10 [==============================] - 0s - loss: 8.9625e-05\n",
      "Epoch 100/100\n",
      "10/10 [==============================] - 0s - loss: 8.6288e-05\n"
     ]
    },
    {
     "data": {
      "text/plain": [
       "<keras.callbacks.History at 0x10e131208>"
      ]
     },
     "execution_count": 11,
     "metadata": {},
     "output_type": "execute_result"
    }
   ],
   "source": [
    "coder.fit(x_data, x_data, nb_epoch=100)"
   ]
  },
  {
   "cell_type": "code",
   "execution_count": 12,
   "metadata": {
    "collapsed": false
   },
   "outputs": [
    {
     "name": "stdout",
     "output_type": "stream",
     "text": [
      "[ 0.89286015  0.33197981  0.82122912  0.04169663  0.10765668  0.59505206\n",
      "  0.52981736  0.41880743  0.33540785  0.62251943]\n",
      "[ 0.86979097  0.32658657  0.83307517  0.06249763  0.11308175  0.60168821\n",
      "  0.53057754  0.42141896  0.33680576  0.61647892]\n",
      "10/10 [==============================] - 0s\n",
      "8.31144789117e-05\n"
     ]
    }
   ],
   "source": [
    "print(x_data.squeeze()[0])\n",
    "print(coder.predict(x_data).squeeze()[0])\n",
    "print(coder.evaluate(x_data, x_data))"
   ]
  },
  {
   "cell_type": "code",
   "execution_count": 13,
   "metadata": {
    "collapsed": false
   },
   "outputs": [
    {
     "data": {
      "text/plain": [
       "8.3114486e-05"
      ]
     },
     "execution_count": 13,
     "metadata": {},
     "output_type": "execute_result"
    }
   ],
   "source": [
    "np.mean(np.square(x_data-coder.predict(x_data)), dtype=np.float32)"
   ]
  },
  {
   "cell_type": "code",
   "execution_count": null,
   "metadata": {
    "collapsed": true
   },
   "outputs": [],
   "source": [
    ""
   ]
  }
 ],
 "metadata": {
  "kernelspec": {
   "display_name": "Python 3",
   "language": "python",
   "name": "python3"
  },
  "language_info": {
   "codemirror_mode": {
    "name": "ipython",
    "version": 3.0
   },
   "file_extension": ".py",
   "mimetype": "text/x-python",
   "name": "python",
   "nbconvert_exporter": "python",
   "pygments_lexer": "ipython3",
   "version": "3.5.2"
  }
 },
 "nbformat": 4,
 "nbformat_minor": 0
}