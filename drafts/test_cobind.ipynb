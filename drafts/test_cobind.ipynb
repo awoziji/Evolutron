{
 "cells": [
  {
   "cell_type": "code",
   "execution_count": 1,
   "metadata": {
    "collapsed": false
   },
   "outputs": [
    {
     "name": "stderr",
     "output_type": "stream",
     "text": [
      "Using Theano backend.\n"
     ]
    }
   ],
   "source": [
    "from __future__ import print_function, division, absolute_import\n",
    "\n",
    "import argparse\n",
    "import time\n",
    "\n",
    "import numpy as np\n",
    "seed = 7\n",
    "np.random.seed(seed)\n",
    "\n",
    "import os\n",
    "import sys\n",
    "sys.path.insert(0, os.path.abspath('..'))\n",
    "os.chdir('../CoBind')\n",
    "\n",
    "import evolutron.networks as nets\n",
    "from evolutron.motifs import motif_extraction\n",
    "from evolutron.tools import load_dataset, none2str, Handle\n",
    "from evolutron.engine import DeepTrainer"
   ]
  },
  {
   "cell_type": "code",
   "execution_count": 2,
   "metadata": {
    "collapsed": false
   },
   "outputs": [],
   "source": [
    "# Data and model\n",
    "data_id = 'type2p'\n",
    "padded = True\n",
    "mode = 'train'\n",
    "\n",
    "# Architecture\n",
    "n_filters = 64\n",
    "filter_length = 10\n",
    "n_convs = 1\n",
    "n_fc = 1\n",
    "\n",
    "# Training\n",
    "num_epochs = 1\n",
    "batch_size = 50\n",
    "optimizer = 'nadam'\n",
    "rate = .01\n",
    "validate = .2"
   ]
  },
  {
   "cell_type": "code",
   "execution_count": 3,
   "metadata": {
    "collapsed": false
   },
   "outputs": [
    {
     "name": "stdout",
     "output_type": "stream",
     "text": [
      "Dataset size: 3595\n"
     ]
    }
   ],
   "source": [
    "dataset = load_dataset(data_id, padded=padded, codes=True)\n",
    "x_data, y_data = dataset\n",
    "if type(x_data) == np.ndarray:\n",
    "    input_shape = x_data[0].shape\n",
    "elif type(x_data) == list:\n",
    "    input_shape = (None, x_data[0].shape[1])\n",
    "else:\n",
    "    raise TypeError('Something went wrong with the dataset type')"
   ]
  },
  {
   "cell_type": "code",
   "execution_count": 4,
   "metadata": {
    "collapsed": false
   },
   "outputs": [
    {
     "name": "stdout",
     "output_type": "stream",
     "text": [
      "Building model ...\n",
      "Neural Network has 18584 trainable parameters\n",
      "  #  Name            Shape      Parameters\n",
      "---  --------------  -------  ------------\n",
      "  0  aa_seq          657x20              0\n",
      "  1  Conv1           657x64          12864\n",
      "  2  maxpooling1d_1  1x64                0\n",
      "  3  flatten_1       64                  0\n",
      "  4  FCEnc1          64               4160\n",
      "  5  Classifier1     4                 260\n",
      "  6  Classifier2     4                 260\n",
      "  7  Classifier3     4                 260\n",
      "  8  Classifier4     4                 260\n",
      "  9  Classifier5     4                 260\n",
      " 10  Classifier6     4                 260\n"
     ]
    }
   ],
   "source": [
    "print('Building model ...')\n",
    "net_arch = nets.DeepDNABind.from_options(input_shape, n_conv_layers=n_convs, n_fc_layers=n_fc,\n",
    "                                       n_filters=n_filters, filter_length=filter_length)\n",
    "conv_net = DeepTrainer(net_arch)\n",
    "conv_net.compile(optimizer=optimizer, lr=rate)\n",
    "conv_net.display_network_info()"
   ]
  },
  {
   "cell_type": "code",
   "execution_count": 5,
   "metadata": {
    "collapsed": false
   },
   "outputs": [
    {
     "name": "stdout",
     "output_type": "stream",
     "text": [
      "Started training at Tue Nov 22 18:51:27 2016\n",
      "Train on 2876 samples, validate on 719 samples\n",
      "Epoch 1/1\n",
      "2850/2876 [============================>.] - ETA: 0s - loss: 5.2274 - Classifier1_loss: 0.8114 - Classifier2_loss: 0.9790 - Classifier3_loss: 0.8268 - Classifier4_loss: 0.8290 - Classifier5_loss: 0.9794 - Classifier6_loss: 0.8019 - Classifier1_categorical_accuracy: 0.5919 - Classifier2_categorical_accuracy: 0.5512 - Classifier3_categorical_accuracy: 0.5070 - Classifier4_categorical_accuracy: 0.4993 - Classifier5_categorical_accuracy: 0.5916 - Classifier6_categorical_accuracy: 0.5923Epoch 00000: val_loss improved from inf to 3.61274, saving model to /tmp/best_0.6288942751861121.h5\n",
      "2876/2876 [==============================] - 12s - loss: 5.2243 - Classifier1_loss: 0.8113 - Classifier2_loss: 0.9771 - Classifier3_loss: 0.8269 - Classifier4_loss: 0.8292 - Classifier5_loss: 0.9777 - Classifier6_loss: 0.8022 - Classifier1_categorical_accuracy: 0.5918 - Classifier2_categorical_accuracy: 0.5518 - Classifier3_categorical_accuracy: 0.5076 - Classifier4_categorical_accuracy: 0.4993 - Classifier5_categorical_accuracy: 0.5921 - Classifier6_categorical_accuracy: 0.5918 - val_loss: 3.6127 - val_Classifier1_loss: 0.6255 - val_Classifier2_loss: 0.5750 - val_Classifier3_loss: 0.5921 - val_Classifier4_loss: 0.5977 - val_Classifier5_loss: 0.5889 - val_Classifier6_loss: 0.6336 - val_Classifier1_categorical_accuracy: 0.6662 - val_Classifier2_categorical_accuracy: 0.7455 - val_Classifier3_categorical_accuracy: 0.5396 - val_Classifier4_categorical_accuracy: 0.5160 - val_Classifier5_categorical_accuracy: 0.7705 - val_Classifier6_categorical_accuracy: 0.6676\n",
      "{'Classifier4_loss': [0.82919067641790123], 'Classifier1_categorical_accuracy': [0.59179416126850082], 'val_Classifier4_categorical_accuracy': [0.51599443767100617], 'val_Classifier1_categorical_accuracy': [0.66620306378445471], 'Classifier1_loss': [0.81128331938025355], 'loss': [5.2243208714420177], 'Classifier4_categorical_accuracy': [0.4993045927026673], 'Classifier3_categorical_accuracy': [0.50764951521792401], 'val_Classifier6_categorical_accuracy': [0.6675938796433355], 'val_Classifier5_loss': [0.58888671834213513], 'lr': [array(0.009999999776482582, dtype=float32)], 'Classifier2_loss': [0.97709349262034606], 'Classifier3_loss': [0.82690732989341065], 'Classifier2_categorical_accuracy': [0.5518080663500724], 'val_Classifier4_loss': [0.5976523422896447], 'val_Classifier2_categorical_accuracy': [0.74547982671827862], 'val_loss': [3.6127389618020729], 'val_Classifier1_loss': [0.62553389016046645], 'Classifier6_loss': [0.80216827936812474], 'Classifier6_categorical_accuracy': [0.59179416070893009], 'val_Classifier5_categorical_accuracy': [0.77051459822767465], 'val_Classifier2_loss': [0.57499778055183082], 'Classifier5_categorical_accuracy': [0.59214186489126119], 'val_Classifier6_loss': [0.63360451624025393], 'val_Classifier3_loss': [0.59206374866242861], 'Classifier5_loss': [0.977677746716063], 'val_Classifier3_categorical_accuracy': [0.53963838391244323]}\n",
      "Model trained for 1 epochs. Total time: 12.497s\n"
     ]
    }
   ],
   "source": [
    "print('Started training at {}'.format(time.asctime()))\n",
    "conv_net.fit(x_data, np.split(y_data, 6, axis=1),\n",
    "             nb_epoch=num_epochs,\n",
    "             batch_size=batch_size,\n",
    "             validate=validate)"
   ]
  },
  {
   "cell_type": "code",
   "execution_count": 7,
   "metadata": {
    "collapsed": false
   },
   "outputs": [
    {
     "data": {
      "text/plain": [
       "{'Classifier1_categorical_accuracy': [0.59179416126850082],\n",
       " 'Classifier1_loss': [0.81128331938025355],\n",
       " 'Classifier2_categorical_accuracy': [0.5518080663500724],\n",
       " 'Classifier2_loss': [0.97709349262034606],\n",
       " 'Classifier3_categorical_accuracy': [0.50764951521792401],\n",
       " 'Classifier3_loss': [0.82690732989341065],\n",
       " 'Classifier4_categorical_accuracy': [0.4993045927026673],\n",
       " 'Classifier4_loss': [0.82919067641790123],\n",
       " 'Classifier5_categorical_accuracy': [0.59214186489126119],\n",
       " 'Classifier5_loss': [0.977677746716063],\n",
       " 'Classifier6_categorical_accuracy': [0.59179416070893009],\n",
       " 'Classifier6_loss': [0.80216827936812474],\n",
       " 'loss': [5.2243208714420177],\n",
       " 'lr': [array(0.009999999776482582, dtype=float32)],\n",
       " 'val_Classifier1_categorical_accuracy': [0.66620306378445471],\n",
       " 'val_Classifier1_loss': [0.62553389016046645],\n",
       " 'val_Classifier2_categorical_accuracy': [0.74547982671827862],\n",
       " 'val_Classifier2_loss': [0.57499778055183082],\n",
       " 'val_Classifier3_categorical_accuracy': [0.53963838391244323],\n",
       " 'val_Classifier3_loss': [0.59206374866242861],\n",
       " 'val_Classifier4_categorical_accuracy': [0.51599443767100617],\n",
       " 'val_Classifier4_loss': [0.5976523422896447],\n",
       " 'val_Classifier5_categorical_accuracy': [0.77051459822767465],\n",
       " 'val_Classifier5_loss': [0.58888671834213513],\n",
       " 'val_Classifier6_categorical_accuracy': [0.6675938796433355],\n",
       " 'val_Classifier6_loss': [0.63360451624025393],\n",
       " 'val_loss': [3.6127389618020729]}"
      ]
     },
     "execution_count": 7,
     "metadata": {},
     "output_type": "execute_result"
    }
   ],
   "source": [
    "conv_net.history.history"
   ]
  },
  {
   "cell_type": "code",
   "execution_count": 15,
   "metadata": {
    "collapsed": false
   },
   "outputs": [
    {
     "data": {
      "text/plain": [
       "0.6021231660411267"
      ]
     },
     "execution_count": 15,
     "metadata": {},
     "output_type": "execute_result"
    }
   ],
   "source": [
    "import re\n",
    "pattern = re.compile(\"val_Classifier[0-9]_loss\")\n",
    "np.mean([v[-1] for k,v in conv_net.history.history.items() if pattern.match(k)])"
   ]
  },
  {
   "cell_type": "code",
   "execution_count": null,
   "metadata": {
    "collapsed": true
   },
   "outputs": [],
   "source": []
  }
 ],
 "metadata": {
  "kernelspec": {
   "display_name": "Python 3",
   "language": "python",
   "name": "python3"
  },
  "language_info": {
   "codemirror_mode": {
    "name": "ipython",
    "version": 3
   },
   "file_extension": ".py",
   "mimetype": "text/x-python",
   "name": "python",
   "nbconvert_exporter": "python",
   "pygments_lexer": "ipython3",
   "version": "3.5.2"
  }
 },
 "nbformat": 4,
 "nbformat_minor": 0
}
