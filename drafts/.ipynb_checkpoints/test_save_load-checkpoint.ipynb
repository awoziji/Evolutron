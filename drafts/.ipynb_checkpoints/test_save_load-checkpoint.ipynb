{
 "cells": [
  {
   "cell_type": "code",
   "execution_count": null,
   "metadata": {
    "collapsed": true
   },
   "outputs": [],
   "source": [
    "import os\n",
    "import sys\n",
    "import time\n",
    "\n",
    "import numpy as np\n",
    "from keras.utils.np_utils import to_categorical\n",
    "import keras.backend as K\n",
    "\n",
    "# Check if package is installed, else fallback to developer mode imports\n",
    "try:\n",
    "    from evolutron.motifs import motif_extraction\n",
    "    from evolutron.tools import load_dataset, none2str, Handle, shape, get_args\n",
    "except ImportError:\n",
    "    sys.path.insert(0, os.path.abspath('../Evolutron'))\n",
    "    from evolutron.motifs import motif_extraction\n",
    "    from evolutron.tools import load_dataset, none2str, Handle, shape, get_args\n",
    "    from evolutron.templates import callback_templates as cb\n",
    "    \n",
    "seed = 7\n",
    "np.random.seed(seed)"
   ]
  },
  {
   "cell_type": "code",
   "execution_count": null,
   "metadata": {
    "collapsed": true
   },
   "outputs": [],
   "source": [
    "dataset = load_dataset('ecoli',padded=True)"
   ]
  }
 ],
 "metadata": {
  "kernelspec": {
   "display_name": "Python 3",
   "language": "python",
   "name": "python3"
  },
  "language_info": {
   "codemirror_mode": {
    "name": "ipython",
    "version": 3
   },
   "file_extension": ".py",
   "mimetype": "text/x-python",
   "name": "python",
   "nbconvert_exporter": "python",
   "pygments_lexer": "ipython3",
   "version": "3.6.0"
  }
 },
 "nbformat": 4,
 "nbformat_minor": 1
}
