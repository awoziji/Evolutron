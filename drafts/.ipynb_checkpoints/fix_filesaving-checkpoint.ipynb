{
 "cells": [
  {
   "cell_type": "code",
   "execution_count": 1,
   "metadata": {
    "collapsed": true
   },
   "outputs": [],
   "source": [
    "class Handle(object):\n",
    "    \"\"\" Handles names for loading and saving different models.\n",
    "    \"\"\"\n",
    "    def __init__(self, epochs=None,\n",
    "                 batch_size=None,\n",
    "                 filters=None,\n",
    "                 filter_size=None,\n",
    "                 model=None,\n",
    "                 ftype=None,\n",
    "                 program=None,\n",
    "                 dataset=None,\n",
    "                 extra=None):\n",
    "        self.epochs = epochs\n",
    "        self.batch_size = batch_size\n",
    "        self.filters = filters\n",
    "        self.filter_size = filter_size\n",
    "\n",
    "        self.model = model\n",
    "        self.ftype = ftype\n",
    "        self.program = program\n",
    "        self.dataset = dataset\n",
    "\n",
    "        self.filename = str(self).split('/')[-1]\n",
    "\n",
    "        self.extra = extra\n",
    "\n",
    "    def __str__(self):\n",
    "        return '{0}/{1}_{2}_{3}_{4}_{5}.{6}'.format(self.dataset,\n",
    "                                                    self.filters,\n",
    "                                                    self.filter_size,\n",
    "                                                    self.epochs,\n",
    "                                                    self.batch_size,\n",
    "                                                    self.model,\n",
    "                                                    self.ftype)\n",
    "\n",
    "    def __repr__(self):\n",
    "        return '{0}/{1}_{2}_{3}_{4}_{5}.{6}'.format(self.dataset,\n",
    "                                                    self.filters,\n",
    "                                                    self.filter_size,\n",
    "                                                    self.epochs,\n",
    "                                                    self.batch_size,\n",
    "                                                    self.model,\n",
    "                                                    self.ftype)\n",
    "\n",
    "    def __add__(self, other):\n",
    "        return str(self) + other\n",
    "\n",
    "    def __radd__(self, other):\n",
    "        return other + str(self)\n",
    "\n",
    "    @classmethod\n",
    "    def from_filename(cls, filename):\n",
    "        try:\n",
    "            basename, ftype, __ = filename.split('.')\n",
    "        except ValueError:\n",
    "            basename, ftype = filename.split('.')\n",
    "        dataset = basename.split('/')[-2]\n",
    "\n",
    "        info = basename.split('/')[-1]\n",
    "\n",
    "        filters, filter_size, epochs, batch_size = map(int, info.split('_')[:4])\n",
    "\n",
    "        model = info.split('_')[-1]\n",
    "\n",
    "        obj = cls(epochs, batch_size, filters, filter_size, dataset=dataset, model=model, ftype=ftype)\n",
    "\n",
    "        return obj\n"
   ]
  },
  {
   "cell_type": "code",
   "execution_count": 2,
   "metadata": {
    "collapsed": false,
    "scrolled": false
   },
   "outputs": [
    {
     "name": "stderr",
     "output_type": "stream",
     "text": [
      "Using Theano backend.\n",
      "Using gpu device 1: GeForce GTX 1080 (CNMeM is enabled with initial size: 80.0% of memory, cuDNN 5105)\n"
     ]
    }
   ],
   "source": [
    "from __future__ import print_function, division, absolute_import\n",
    "\n",
    "import os\n",
    "import sys\n",
    "sys.path.insert(0, os.path.abspath('..'))\n",
    "os.chdir('../CoMET')\n",
    "import evolutron.networks as nets\n",
    "from evolutron.engine import DeepTrainer"
   ]
  },
  {
   "cell_type": "code",
   "execution_count": 3,
   "metadata": {
    "collapsed": true
   },
   "outputs": [],
   "source": [
    "# Data and model\n",
    "data_id = 'zinc'\n",
    "padded = True\n",
    "mode = 'unsuper'\n",
    "model = None\n",
    "\n",
    "# Architecture\n",
    "n_filters = 100\n",
    "filter_length = 30\n",
    "n_convs = 1\n",
    "n_fc = 1\n",
    "\n",
    "# Training\n",
    "num_epochs = 20\n",
    "batch_size = 50\n",
    "optimizer = 'nadam'\n",
    "rate = .1\n",
    "validate = .2\n",
    "\n",
    "input_shape = (500, 20)"
   ]
  },
  {
   "cell_type": "code",
   "execution_count": 4,
   "metadata": {
    "collapsed": false
   },
   "outputs": [],
   "source": [
    "net_arch = nets.DeepCoDER.from_options(input_shape, n_conv_layers=n_convs, n_fc_layers=n_fc,\n",
    "                                       n_filters=n_filters, filter_length=filter_length)"
   ]
  },
  {
   "cell_type": "code",
   "execution_count": 5,
   "metadata": {
    "collapsed": true
   },
   "outputs": [],
   "source": [
    "handle = Handle(batch_size=batch_size,\n",
    "        filter_size=filter_length,\n",
    "        filters=n_filters,\n",
    "        program='CoMET',\n",
    "        dataset=data_id,\n",
    "        extra=None)\n",
    "handle.model = 'realDeepCoDER1'"
   ]
  },
  {
   "cell_type": "code",
   "execution_count": 9,
   "metadata": {
    "collapsed": false
   },
   "outputs": [
    {
     "data": {
      "text/plain": [
       "zinc/100_30_None_50_realDeepCoDER1.None"
      ]
     },
     "execution_count": 9,
     "metadata": {},
     "output_type": "execute_result"
    }
   ],
   "source": [
    "handle"
   ]
  },
  {
   "cell_type": "code",
   "execution_count": null,
   "metadata": {
    "collapsed": true
   },
   "outputs": [],
   "source": []
  }
 ],
 "metadata": {
  "kernelspec": {
   "display_name": "Python 3",
   "language": "python",
   "name": "python3"
  },
  "language_info": {
   "codemirror_mode": {
    "name": "ipython",
    "version": 3
   },
   "file_extension": ".py",
   "mimetype": "text/x-python",
   "name": "python",
   "nbconvert_exporter": "python",
   "pygments_lexer": "ipython3",
   "version": "3.5.2"
  }
 },
 "nbformat": 4,
 "nbformat_minor": 1
}
