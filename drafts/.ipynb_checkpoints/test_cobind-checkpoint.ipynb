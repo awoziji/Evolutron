{
 "cells": [
  {
   "cell_type": "code",
   "execution_count": 2,
   "metadata": {
    "collapsed": false
   },
   "outputs": [
    {
     "ename": "ImportError",
     "evalue": "No module named 'evolutron'",
     "output_type": "error",
     "traceback": [
      "\u001b[0;31m---------------------------------------------------------------------------\u001b[0m",
      "\u001b[0;31mImportError\u001b[0m                               Traceback (most recent call last)",
      "\u001b[0;32m<ipython-input-2-e8ab75724cb1>\u001b[0m in \u001b[0;36m<module>\u001b[0;34m()\u001b[0m\n\u001b[1;32m      6\u001b[0m \u001b[0;32mfrom\u001b[0m \u001b[0mkeras\u001b[0m\u001b[0;34m.\u001b[0m\u001b[0mobjectives\u001b[0m \u001b[0;32mimport\u001b[0m \u001b[0mcategorical_crossentropy\u001b[0m\u001b[0;34m\u001b[0m\u001b[0m\n\u001b[1;32m      7\u001b[0m \u001b[0;34m\u001b[0m\u001b[0m\n\u001b[0;32m----> 8\u001b[0;31m \u001b[0;32mfrom\u001b[0m \u001b[0mevolutron\u001b[0m\u001b[0;34m.\u001b[0m\u001b[0mextra_layers\u001b[0m \u001b[0;32mimport\u001b[0m \u001b[0mConvolution1D\u001b[0m\u001b[0;34m,\u001b[0m \u001b[0mMaxPooling1D\u001b[0m\u001b[0;34m,\u001b[0m \u001b[0mDense\u001b[0m\u001b[0;34m,\u001b[0m \u001b[0mFlatten\u001b[0m  \u001b[0;31m# To implement masking\u001b[0m\u001b[0;34m\u001b[0m\u001b[0m\n\u001b[0m",
      "\u001b[0;31mImportError\u001b[0m: No module named 'evolutron'"
     ]
    }
   ],
   "source": [
    "import keras.backend as K\n",
    "from keras.layers import Input\n",
    "from keras.layers import Merge\n",
    "from keras.metrics import categorical_accuracy\n",
    "from keras.models import Model, load_model\n",
    "from keras.objectives import categorical_crossentropy\n",
    "\n",
    "import os\n",
    "from evolutron.extra_layers import Convolution1D, MaxPooling1D, Dense, Flatten  # To implement masking\n"
   ]
  },
  {
   "cell_type": "code",
   "execution_count": null,
   "metadata": {
    "collapsed": true
   },
   "outputs": [],
   "source": [
    "input_shape= (500, 20)\n",
    "nb_filter=30\n",
    "filter_length=15\n",
    "n_conv_layers = 1\n",
    "n_fc_layers"
   ]
  },
  {
   "cell_type": "code",
   "execution_count": 1,
   "metadata": {
    "collapsed": true
   },
   "outputs": [],
   "source": [
    "seq_length, alphabet = input_shape\n",
    "\n",
    "# Input LayerRO\n",
    "inp = Input(shape=input_shape, name='aa_seq')\n",
    "\n",
    "# Convolutional Layers\n",
    "convs = [Convolution1D(nb_filter, filter_length,\n",
    "                       init='glorot_uniform',\n",
    "                       activation='relu',\n",
    "                       border_mode='same',\n",
    "                       name='Conv1')(inp)]\n",
    "\n",
    "for c in range(1, n_conv_layers):\n",
    "    convs.append(Convolution1D(nb_filter, filter_length,\n",
    "                               init='glorot_uniform',\n",
    "                               activation='relu',\n",
    "                               border_mode='same',\n",
    "                               name='Conv{}'.format(c + 1))(convs[-1]))  # maybe add L1 regularizer\n",
    "\n",
    "# Max-pooling\n",
    "max_pool = MaxPooling1D(pool_length=seq_length)(convs[-1])\n",
    "flat = Flatten()(max_pool)\n",
    "\n",
    "# Fully-Connected encoding layers\n",
    "fc_enc = [Dense(nb_filter,\n",
    "                init='glorot_uniform',\n",
    "                activation='sigmoid',\n",
    "                name='FCEnc1')(flat)]\n",
    "\n",
    "for d in range(1, n_fc_layers):\n",
    "    fc_enc.append(Dense(nb_filter,\n",
    "                        init='glorot_uniform',\n",
    "                        activation='sigmoid',\n",
    "                        name='FCEnc{}'.format(d + 1))(fc_enc[-1]))\n",
    "\n",
    "encoded = fc_enc[-1]  # To access if model for encoding needed\n",
    "\n",
    "classifier = []\n",
    "for i in range(0, 6):\n",
    "    classifier.append(Dense(4,\n",
    "                            init='glorot_uniform',\n",
    "                            activation='softmax',\n",
    "                            name='Classifier{}'.format(i + 1))(encoded))\n",
    "\n",
    "output = Merge(classifier, mode='concat')"
   ]
  },
  {
   "cell_type": "code",
   "execution_count": null,
   "metadata": {
    "collapsed": true
   },
   "outputs": [],
   "source": []
  }
 ],
 "metadata": {
  "kernelspec": {
   "display_name": "Python 3",
   "language": "python",
   "name": "python3"
  },
  "language_info": {
   "codemirror_mode": {
    "name": "ipython",
    "version": 3
   },
   "file_extension": ".py",
   "mimetype": "text/x-python",
   "name": "python",
   "nbconvert_exporter": "python",
   "pygments_lexer": "ipython3",
   "version": "3.5.2"
  }
 },
 "nbformat": 4,
 "nbformat_minor": 0
}
