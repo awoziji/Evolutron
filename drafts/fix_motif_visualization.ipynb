{
 "cells": [
  {
   "cell_type": "code",
   "execution_count": 1,
   "metadata": {
    "collapsed": false
   },
   "outputs": [
    {
     "name": "stderr",
     "output_type": "stream",
     "text": [
      "Using Theano backend.\n",
      "ERROR (theano.sandbox.cuda): ERROR: Not using GPU. Initialisation of device 1 failed:\n",
      "initCnmem: cnmemInit call failed! Reason=CNMEM_STATUS_OUT_OF_MEMORY. numdev=1\n",
      "\n",
      "Using gpu device 0: GeForce GTX 1080 (CNMeM is enabled with initial size: 80.0% of memory, cuDNN 5105)\n"
     ]
    }
   ],
   "source": [
    "#!/usr/bin/env python\n",
    "\n",
    "from __future__ import print_function\n",
    "\n",
    "import argparse\n",
    "import h5py\n",
    "\n",
    "from keras.models import model_from_json\n",
    "import keras.backend as K\n",
    "\n",
    "import os\n",
    "import sys\n",
    "\n",
    "sys.path.insert(0, os.path.abspath('..'))\n",
    "os.chdir('../CoMET')\n",
    "\n",
    "from evolutron.engine import DeepTrainer\n",
    "from evolutron.tools import load_dataset, Handle, shape\n",
    "from evolutron.motifs import motif_extraction"
   ]
  },
  {
   "cell_type": "code",
   "execution_count": 7,
   "metadata": {
    "collapsed": false
   },
   "outputs": [],
   "source": [
    "filename = 'models/zinc/100_10_12_50_krDeepCoDER.model'\n",
    "hf = h5py.File(filename)\n",
    "model_config = hf.attrs['model_config'].decode('utf8')\n",
    "hf.close()"
   ]
  },
  {
   "cell_type": "code",
   "execution_count": 8,
   "metadata": {
    "collapsed": false
   },
   "outputs": [
    {
     "name": "stdout",
     "output_type": "stream",
     "text": [
      "Dataset size: 11906\n"
     ]
    }
   ],
   "source": [
    "import evolutron.networks.krs.extra_layers as extra\n",
    "custom_layers = {\n",
    "    'Convolution1D': extra.Convolution1D,\n",
    "    'Deconvolution1D': extra.Deconvolution1D,\n",
    "    'MaxPooling1D': extra.MaxPooling1D,\n",
    "    'Unpooling1D': extra.Unpooling1D,\n",
    "    'Dense': extra.Dense,\n",
    "    'Dedense': extra.Dedense,\n",
    "    'Reshape': extra.Reshape,\n",
    "    'Flatten': extra.Flatten\n",
    "}\n",
    "\n",
    "net = DeepTrainer(model_from_json(model_config, custom_objects=custom_layers))\n",
    "net.load_all_param_values(filename)\n",
    "\n",
    "handle = Handle.from_filename(filename)\n",
    "data_id = handle.dataset\n",
    "\n",
    "x_data = load_dataset(data_id, padded=False)"
   ]
  },
  {
   "cell_type": "code",
   "execution_count": 12,
   "metadata": {
    "collapsed": false
   },
   "outputs": [],
   "source": [
    "conv_layers = net.get_conv_layers()\n",
    "conv_scores = conv_layers[0].output\n",
    "custom_fun = K.function([net.inp], conv_scores)"
   ]
  },
  {
   "cell_type": "code",
   "execution_count": 18,
   "metadata": {
    "collapsed": false
   },
   "outputs": [],
   "source": [
    "import numpy as np\n",
    "x_data = [np.expand_dims(x,0) for x in x_data]"
   ]
  },
  {
   "cell_type": "code",
   "execution_count": 33,
   "metadata": {
    "collapsed": false
   },
   "outputs": [],
   "source": [
    "res = custom_fun([x_data[0]])"
   ]
  },
  {
   "cell_type": "code",
   "execution_count": 34,
   "metadata": {
    "collapsed": false
   },
   "outputs": [
    {
     "data": {
      "text/plain": [
       "(1, 532, 100)"
      ]
     },
     "execution_count": 34,
     "metadata": {},
     "output_type": "execute_result"
    }
   ],
   "source": [
    "res.shape"
   ]
  },
  {
   "cell_type": "code",
   "execution_count": null,
   "metadata": {
    "collapsed": true
   },
   "outputs": [],
   "source": []
  }
 ],
 "metadata": {
  "kernelspec": {
   "display_name": "Python 3",
   "language": "python",
   "name": "python3"
  },
  "language_info": {
   "codemirror_mode": {
    "name": "ipython",
    "version": 3
   },
   "file_extension": ".py",
   "mimetype": "text/x-python",
   "name": "python",
   "nbconvert_exporter": "python",
   "pygments_lexer": "ipython3",
   "version": "3.5.2"
  }
 },
 "nbformat": 4,
 "nbformat_minor": 1
}
