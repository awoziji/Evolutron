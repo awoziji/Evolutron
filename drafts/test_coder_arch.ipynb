{
 "cells": [
  {
   "cell_type": "code",
   "execution_count": 1,
   "metadata": {
    "collapsed": false
   },
   "outputs": [
    {
     "name": "stderr",
     "output_type": "stream",
     "text": [
      "Using Theano backend.\n"
     ]
    }
   ],
   "source": [
    "from __future__ import print_function\n",
    "import keras.backend as K\n",
    "from keras.layers import Input, Convolution1D, MaxPooling1D, Dense, Flatten, Reshape, UpSampling1D, Dropout\n",
    "from keras.metrics import categorical_accuracy\n",
    "from keras.models import Model, load_model\n",
    "from keras.objectives import mean_squared_error\n",
    "\n",
    "import os\n",
    "os.chdir('..')\n",
    "\n",
    "from evolutron.networks import Deconvolution1D, Dedense\n",
    "from evolutron.engine import DeepTrainer"
   ]
  },
  {
   "cell_type": "code",
   "execution_count": 2,
   "metadata": {
    "collapsed": true
   },
   "outputs": [],
   "source": [
    "aa_length = 100\n",
    "# Input Layer, assumes 'tf' ordering of dimensions, i.e. (batch_size, length, channels)\n",
    "inp = Input(shape=(aa_length, 20), name='aa_seq')"
   ]
  },
  {
   "cell_type": "code",
   "execution_count": 3,
   "metadata": {
    "collapsed": false
   },
   "outputs": [],
   "source": [
    "n_filters = 30\n",
    "filter_length = 10\n",
    "n_conv_layers = 3\n",
    "# Convolutional Layers\n",
    "convs = [Convolution1D(n_filters, filter_length,\n",
    "                       init='glorot_uniform',\n",
    "                       activation='relu',\n",
    "                       border_mode='same',\n",
    "                       name='Conv1')(inp)]\n",
    "\n",
    "for c in range(1, n_conv_layers):\n",
    "    convs.append(Convolution1D(n_filters, filter_length,\n",
    "                               init='glorot_uniform',\n",
    "                               activation='relu',\n",
    "                               border_mode='same',\n",
    "                               name='Conv{}'.format(c+1))(convs[-1]))  # maybe add L1 regularizer"
   ]
  },
  {
   "cell_type": "code",
   "execution_count": 4,
   "metadata": {
    "collapsed": true
   },
   "outputs": [],
   "source": [
    "# Max-pooling\n",
    "max_pool = MaxPooling1D(pool_length=aa_length)(convs[-1])\n",
    "\n",
    "flat = Flatten()(max_pool)"
   ]
  },
  {
   "cell_type": "code",
   "execution_count": 5,
   "metadata": {
    "collapsed": true
   },
   "outputs": [],
   "source": [
    "# Fully-Connected encoding layers\n",
    "n_fc_layers=3\n",
    "fc_enc = [Dense(n_filters,\n",
    "                init='glorot_uniform',\n",
    "                activation='sigmoid',\n",
    "                name='FCEnc1')(flat)]\n",
    "\n",
    "for d in range(1, n_fc_layers):\n",
    "    fc_enc.append(Dense(n_filters,\n",
    "                        init='glorot_uniform',\n",
    "                        activation='sigmoid',\n",
    "                        name='FCEnc{}'.format(d+1))(fc_enc[-1]))\n",
    "\n",
    "encoded = fc_enc[-1]  # To access if model for encoding needed"
   ]
  },
  {
   "cell_type": "code",
   "execution_count": 6,
   "metadata": {
    "collapsed": true
   },
   "outputs": [],
   "source": [
    "# Fully-Connected decoding layers\n",
    "fc_dec = [Dedense(encoded._keras_history[0],\n",
    "                  activation='linear',\n",
    "                  name='FCDec{}'.format(n_fc_layers))(encoded)]\n",
    "\n",
    "for d in range(n_fc_layers-2, -1, -1):\n",
    "    fc_dec.append(Dedense(fc_enc[d]._keras_history[0],\n",
    "                          activation='linear',\n",
    "                          name='FCDec{}'.format(d+1))(fc_dec[-1]))\n"
   ]
  },
  {
   "cell_type": "code",
   "execution_count": 7,
   "metadata": {
    "collapsed": false
   },
   "outputs": [],
   "source": [
    "# Reshaping and unpooling\n",
    "unflat = Reshape(max_pool._keras_shape[1:])(fc_dec[-1])\n",
    "deconvs = [UpSampling1D(length=aa_length, name='Unpooling')(unflat)]"
   ]
  },
  {
   "cell_type": "code",
   "execution_count": 8,
   "metadata": {
    "collapsed": false
   },
   "outputs": [
    {
     "name": "stdout",
     "output_type": "stream",
     "text": [
      "2\n",
      "1\n"
     ]
    }
   ],
   "source": [
    "# Deconvolution\n",
    "for c in range(n_conv_layers-1, 0, -1):\n",
    "    print(c)\n",
    "    deconvs.append(Deconvolution1D(convs[c]._keras_history[0],\n",
    "                                   activation='relu',\n",
    "                                   name='Deconv' + str(c+1))(deconvs[-1]))  # maybe add L1 regularizer\n",
    "decoded = Deconvolution1D(convs[0]._keras_history[0], activation='sigmoid', name='Deconv1')(deconvs[-1])"
   ]
  },
  {
   "cell_type": "code",
   "execution_count": 9,
   "metadata": {
    "collapsed": false
   },
   "outputs": [],
   "source": [
    "coder = DeepTrainer(Model(input=inp, output=decoded))"
   ]
  },
  {
   "cell_type": "code",
   "execution_count": 10,
   "metadata": {
    "collapsed": false
   },
   "outputs": [
    {
     "data": {
      "text/plain": [
       "27050"
      ]
     },
     "execution_count": 10,
     "metadata": {},
     "output_type": "execute_result"
    }
   ],
   "source": [
    "coder.n_params"
   ]
  },
  {
   "cell_type": "code",
   "execution_count": 13,
   "metadata": {
    "collapsed": false
   },
   "outputs": [
    {
     "name": "stdout",
     "output_type": "stream",
     "text": [
      "Neural Network has 27050 trainable parameters\n",
      "  #  Name            Shape      Parameters\n",
      "---  --------------  -------  ------------\n",
      "  0  aa_seq          100x20              0\n",
      "  1  Conv1           100x30           6030\n",
      "  2  Conv2           100x30           9030\n",
      "  3  Conv3           100x30           9030\n",
      "  4  maxpooling1d_1  1x30                0\n",
      "  5  flatten_1       30                  0\n",
      "  6  FCEnc1          30                930\n",
      "  7  FCEnc2          30                930\n",
      "  8  FCEnc3          30                930\n",
      "  9  FCDec3          30                 30\n",
      " 10  FCDec2          30                 30\n",
      " 11  FCDec1          30                 30\n",
      " 12  reshape_1       1x30                0\n",
      " 13  Unpooling       100x30              0\n",
      " 14  Deconv3         100x30             30\n",
      " 15  Deconv2         100x30             30\n",
      " 16  Deconv1         100x20             20\n"
     ]
    }
   ],
   "source": [
    "coder.display_network_info()"
   ]
  },
  {
   "cell_type": "code",
   "execution_count": 12,
   "metadata": {
    "collapsed": false
   },
   "outputs": [
    {
     "name": "stdout",
     "output_type": "stream",
     "text": [
      "(None, 100, 20)\n",
      "(None, 100, 20)\n"
     ]
    }
   ],
   "source": [
    "print(coder.network.input_shape)\n",
    "print(coder.network.output_shape)"
   ]
  }
 ],
 "metadata": {
  "kernelspec": {
   "display_name": "Python 3",
   "language": "python",
   "name": "python3"
  },
  "language_info": {
   "codemirror_mode": {
    "name": "ipython",
    "version": 3
   },
   "file_extension": ".py",
   "mimetype": "text/x-python",
   "name": "python",
   "nbconvert_exporter": "python",
   "pygments_lexer": "ipython3",
   "version": "3.5.2"
  }
 },
 "nbformat": 4,
 "nbformat_minor": 0
}
