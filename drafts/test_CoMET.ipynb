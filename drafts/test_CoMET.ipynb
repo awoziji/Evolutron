{
 "cells": [
  {
   "cell_type": "code",
   "execution_count": 1,
   "metadata": {
    "collapsed": false
   },
   "outputs": [
    {
     "name": "stderr",
     "output_type": "stream",
     "text": [
      "Using Theano backend.\n",
      "Using gpu device 1: GeForce GTX 1080 (CNMeM is enabled with initial size: 80.0% of memory, cuDNN 5105)\n"
     ]
    }
   ],
   "source": [
    "from __future__ import print_function, division, absolute_import\n",
    "\n",
    "import argparse\n",
    "import time\n",
    "\n",
    "import numpy as np\n",
    "seed = 7\n",
    "np.random.seed(seed)\n",
    "\n",
    "import os\n",
    "import sys\n",
    "sys.path.insert(0, os.path.abspath('..'))\n",
    "os.chdir('../CoMET')\n",
    "\n",
    "import evolutron.networks as nets\n",
    "from evolutron.motifs import motif_extraction\n",
    "from evolutron.tools import load_dataset, none2str, Handle\n",
    "from evolutron.engine import DeepTrainer"
   ]
  },
  {
   "cell_type": "code",
   "execution_count": 2,
   "metadata": {
    "collapsed": false
   },
   "outputs": [],
   "source": [
    "# Data and model\n",
    "data_id = 'zinc'\n",
    "padded = True\n",
    "mode = 'unsuper'\n",
    "model = None\n",
    "\n",
    "# Architecture\n",
    "n_filters = 100\n",
    "filter_length = 10\n",
    "n_convs = 3\n",
    "n_fc = 1\n",
    "\n",
    "# Training\n",
    "num_epochs = 20\n",
    "batch_size = 50\n",
    "optimizer = 'nadam'\n",
    "rate = .1\n",
    "validate = .2"
   ]
  },
  {
   "cell_type": "code",
   "execution_count": 3,
   "metadata": {
    "collapsed": false
   },
   "outputs": [
    {
     "name": "stdout",
     "output_type": "stream",
     "text": [
      "Dataset size: 11906\n"
     ]
    }
   ],
   "source": [
    "dataset = load_dataset(data_id, padded=padded)"
   ]
  },
  {
   "cell_type": "code",
   "execution_count": 4,
   "metadata": {
    "collapsed": false
   },
   "outputs": [],
   "source": [
    "x_data = dataset\n",
    "# Find input shape\n",
    "if type(x_data) == np.ndarray:\n",
    "    input_shape = x_data[0].shape\n",
    "elif type(x_data) == list:\n",
    "    input_shape = (None, x_data[0].shape[1])\n",
    "else:\n",
    "    raise TypeError('Something went wrong with the dataset type')"
   ]
  },
  {
   "cell_type": "code",
   "execution_count": 5,
   "metadata": {
    "collapsed": false
   },
   "outputs": [
    {
     "name": "stdout",
     "output_type": "stream",
     "text": [
      "Building model ...\n"
     ]
    }
   ],
   "source": [
    "print('Building model ...')\n",
    "net_arch = nets.DeepCoDER.from_options(input_shape, n_conv_layers=n_convs, n_fc_layers=n_fc,\n",
    "                                       n_filters=n_filters, filter_length=filter_length)\n",
    "conv_net = DeepTrainer(net_arch)\n",
    "conv_net.compile(optimizer=optimizer, lr=rate)"
   ]
  },
  {
   "cell_type": "code",
   "execution_count": null,
   "metadata": {
    "collapsed": false
   },
   "outputs": [
    {
     "name": "stdout",
     "output_type": "stream",
     "text": [
      "Neural Network has 230720 trainable parameters\n",
      "  #  Name            Shape       Parameters\n",
      "---  --------------  --------  ------------\n",
      "  0  aa_seq          7182x20              0\n",
      "  1  masking_1       7182x20              0\n",
      "  2  Conv1           7182x100         20100\n",
      "  3  Conv2           7182x100        100100\n",
      "  4  Conv3           7182x100        100100\n",
      "  5  maxpooling1d_1  1x100                0\n",
      "  6  flatten_1       100                  0\n",
      "  7  FCEnc1          100              10100\n",
      "  8  FCDec1          100                100\n",
      "  9  reshape_1       1x100                0\n",
      " 10  Unpooling       7182x100             0\n",
      " 11  Deconv3         7182x100           100\n",
      " 12  Deconv2         7182x100           100\n",
      " 13  Deconv1         7182x20             20\n"
     ]
    }
   ],
   "source": [
    "conv_net.display_network_info()"
   ]
  },
  {
   "cell_type": "code",
   "execution_count": null,
   "metadata": {
    "collapsed": false
   },
   "outputs": [
    {
     "name": "stdout",
     "output_type": "stream",
     "text": [
      "Started training at Fri Nov 11 22:17:04 2016\n",
      "Train on 8572 samples, validate on 2143 samples\n",
      "Epoch 1/20\n",
      "5950/8572 [===================>..........] - ETA: 29s - loss: 0.0560 - mean_cat_acc: 0.9242"
     ]
    }
   ],
   "source": [
    "print('Started training at {}'.format(time.asctime()))\n",
    "conv_net.fit(x_data[:int(.9 * len(x_data))], x_data[:int(.9 * len(x_data))],\n",
    "             nb_epoch=num_epochs,\n",
    "             batch_size=batch_size,\n",
    "             validate=validate)"
   ]
  },
  {
   "cell_type": "code",
   "execution_count": null,
   "metadata": {
    "collapsed": false
   },
   "outputs": [],
   "source": [
    "score = conv_net.score(x_data[int(.9 * len(x_data)):], x_data[int(.9 * len(x_data)):])\n",
    "print('Test Loss:{0:.6f}, Test Accuracy: {1:.2f}%'.format(score[0], 100*score[1]))"
   ]
  },
  {
   "cell_type": "code",
   "execution_count": null,
   "metadata": {
    "collapsed": false
   },
   "outputs": [],
   "source": [
    "handle = Handle(batch_size=batch_size,\n",
    "        filter_size=filter_length,\n",
    "        filters=n_filters,\n",
    "        program='CoMET',\n",
    "        dataset=data_id,\n",
    "        extra=None)\n",
    "handle.model = 'realDeepCoDER'\n",
    "conv_net.save_train_history(handle)\n",
    "conv_net.save_model_to_file(handle)"
   ]
  },
  {
   "cell_type": "code",
   "execution_count": null,
   "metadata": {
    "collapsed": true
   },
   "outputs": [],
   "source": []
  }
 ],
 "metadata": {
  "kernelspec": {
   "display_name": "Python 3",
   "language": "python",
   "name": "python3"
  },
  "language_info": {
   "codemirror_mode": {
    "name": "ipython",
    "version": 3
   },
   "file_extension": ".py",
   "mimetype": "text/x-python",
   "name": "python",
   "nbconvert_exporter": "python",
   "pygments_lexer": "ipython3",
   "version": "3.5.2"
  }
 },
 "nbformat": 4,
 "nbformat_minor": 0
}
