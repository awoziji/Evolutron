{
 "cells": [
  {
   "cell_type": "code",
   "execution_count": 1,
   "metadata": {
    "collapsed": true
   },
   "outputs": [],
   "source": [
    "class Handle(object):\n",
    "    \"\"\" Handles names for loading and saving different models.\n",
    "    \"\"\"\n",
    "    def __init__(self, epochs=None,\n",
    "                 batch_size=None,\n",
    "                 filters=None,\n",
    "                 filter_size=None,\n",
    "                 model=None,\n",
    "                 ftype=None,\n",
    "                 program=None,\n",
    "                 dataset=None,\n",
    "                 extra=None):\n",
    "        self.epochs = epochs\n",
    "        self.batch_size = batch_size\n",
    "        self.filters = filters\n",
    "        self.filter_size = filter_size\n",
    "\n",
    "        self.model = model\n",
    "        self.ftype = ftype\n",
    "        self.program = program\n",
    "        self.dataset = dataset\n",
    "\n",
    "        self.filename = str(self).split('/')[-1]\n",
    "\n",
    "        self.extra = extra\n",
    "\n",
    "    def __str__(self):\n",
    "        return '{0}/{1}_{2}_{3}_{4}_{5}.{6}'.format(self.dataset,\n",
    "                                                    self.filters,\n",
    "                                                    self.filter_size,\n",
    "                                                    self.epochs,\n",
    "                                                    self.batch_size,\n",
    "                                                    self.model,\n",
    "                                                    self.ftype)\n",
    "\n",
    "    def __repr__(self):\n",
    "        return '{0}/{1}_{2}_{3}_{4}_{5}.{6}'.format(self.dataset,\n",
    "                                                    self.filters,\n",
    "                                                    self.filter_size,\n",
    "                                                    self.epochs,\n",
    "                                                    self.batch_size,\n",
    "                                                    self.model,\n",
    "                                                    self.ftype)\n",
    "\n",
    "    def __add__(self, other):\n",
    "        return str(self) + other\n",
    "\n",
    "    def __radd__(self, other):\n",
    "        return other + str(self)\n",
    "\n",
    "    @classmethod\n",
    "    def from_filename(cls, filename):\n",
    "        try:\n",
    "            basename, ftype, __ = filename.split('.')\n",
    "        except ValueError:\n",
    "            basename, ftype = filename.split('.')\n",
    "        dataset = basename.split('/')[-2]\n",
    "\n",
    "        info = basename.split('/')[-1]\n",
    "\n",
    "        filters, filter_size, epochs, batch_size = map(int, info.split('_')[:4])\n",
    "\n",
    "        model = info.split('_')[-1]\n",
    "\n",
    "        obj = cls(epochs, batch_size, filters, filter_size, dataset=dataset, model=model, ftype=ftype)\n",
    "\n",
    "        return obj\n"
   ]
  },
  {
   "cell_type": "code",
   "execution_count": 2,
   "metadata": {
    "collapsed": false,
    "scrolled": false
   },
   "outputs": [
    {
     "name": "stderr",
     "output_type": "stream",
     "text": [
      "Using Theano backend.\n",
      "Using gpu device 1: GeForce GTX 1080 (CNMeM is enabled with initial size: 80.0% of memory, cuDNN 5105)\n"
     ]
    }
   ],
   "source": [
    "from __future__ import print_function, division, absolute_import\n",
    "\n",
    "import os\n",
    "import sys\n",
    "sys.path.insert(0, os.path.abspath('..'))\n",
    "os.chdir('../CoMET')\n",
    "import evolutron.networks as nets\n",
    "from evolutron.engine import DeepTrainer"
   ]
  },
  {
   "cell_type": "code",
   "execution_count": 3,
   "metadata": {
    "collapsed": true
   },
   "outputs": [],
   "source": [
    "# Data and model\n",
    "data_id = 'zinc'\n",
    "padded = True\n",
    "mode = 'unsuper'\n",
    "model = None\n",
    "\n",
    "# Architecture\n",
    "n_filters = 100\n",
    "filter_length = 30\n",
    "n_convs = 1\n",
    "n_fc = 1\n",
    "\n",
    "# Training\n",
    "num_epochs = 20\n",
    "batch_size = 50\n",
    "optimizer = 'nadam'\n",
    "rate = .1\n",
    "validate = .2\n",
    "\n",
    "input_shape = (500, 20)"
   ]
  },
  {
   "cell_type": "code",
   "execution_count": 4,
   "metadata": {
    "collapsed": false
   },
   "outputs": [],
   "source": [
    "net_arch = nets.DeepCoDER.from_options(input_shape, n_conv_layers=n_convs, n_fc_layers=n_fc,\n",
    "                                       n_filters=n_filters, filter_length=filter_length)"
   ]
  },
  {
   "cell_type": "code",
   "execution_count": 5,
   "metadata": {
    "collapsed": true
   },
   "outputs": [],
   "source": [
    "handle = Handle(batch_size=batch_size,\n",
    "        filter_size=filter_length,\n",
    "        filters=n_filters,\n",
    "        program='CoMET',\n",
    "        dataset=data_id,\n",
    "        extra=None)\n",
    "handle.model = 'realDeepCoDER1'"
   ]
  },
  {
   "cell_type": "code",
   "execution_count": 9,
   "metadata": {
    "collapsed": false
   },
   "outputs": [
    {
     "data": {
      "text/plain": [
       "zinc/100_30_None_50_realDeepCoDER1.None"
      ]
     },
     "execution_count": 9,
     "metadata": {},
     "output_type": "execute_result"
    }
   ],
   "source": [
    "handle"
   ]
  },
  {
   "cell_type": "code",
   "execution_count": 10,
   "metadata": {
    "collapsed": true
   },
   "outputs": [],
   "source": [
    "import argparse"
   ]
  },
  {
   "cell_type": "code",
   "execution_count": 12,
   "metadata": {
    "collapsed": false
   },
   "outputs": [
    {
     "data": {
      "text/plain": [
       "_StoreAction(option_strings=['--optimizer'], dest='optimizer', nargs=None, const=None, default='nadam', type=None, choices=['adam', 'nadam', 'rmsprop', 'sgd', 'adadelta', 'adagrad'], help=None, metavar=None)"
      ]
     },
     "execution_count": 12,
     "metadata": {},
     "output_type": "execute_result"
    }
   ],
   "source": [
    "parser = argparse.ArgumentParser(description='CoMET - Convolutional Motif Embeddings Tool',\n",
    "                                 argument_default=argparse.SUPPRESS)\n",
    "\n",
    "parser.add_argument(\"data_id\", help='The protein dataset to be trained on.')\n",
    "\n",
    "parser.add_argument(\"filters\", type=int, help='Number of filters in the convolutional layers.')\n",
    "\n",
    "parser.add_argument(\"filter_size\", type=int,\n",
    "                    help='Size of filters in the first convolutional layer.')\n",
    "\n",
    "parser.add_argument(\"--no_pad\", action='store_true',\n",
    "                    help='Toggle to pad protein sequences. Batch size auto-change to 1.')\n",
    "\n",
    "parser.add_argument(\"--mode\", choices=['transfer', 'unsupervised', 'supervised'], default='unsupervised')\n",
    "\n",
    "parser.add_argument(\"--conv\", default=1, type=int,\n",
    "                    help='number of conv layers.')\n",
    "\n",
    "parser.add_argument(\"--fc\", default=1, type=int,\n",
    "                    help='number of conv layers.')\n",
    "\n",
    "parser.add_argument(\"-e\", \"--epochs\", default=50, type=int,\n",
    "                    help='number of training epochs to perform (default: 50)')\n",
    "\n",
    "parser.add_argument(\"-b\", \"--batch_size\", type=int, default=50,\n",
    "                    help='Size of minibatch.')\n",
    "\n",
    "parser.add_argument(\"--rate\", type=float)\n",
    "\n",
    "parser.add_argument(\"--model\", type=str,\n",
    "                    help='Continue training the given model. Other architecture options are unused.')\n",
    "\n",
    "parser.add_argument(\"--optimizer\", default='nadam', choices=['adam', 'nadam', 'rmsprop',\n",
    "                                                             'sgd', 'adadelta', 'adagrad'])\n",
    "\n"
   ]
  },
  {
   "cell_type": "code",
   "execution_count": 19,
   "metadata": {
    "collapsed": false
   },
   "outputs": [],
   "source": [
    "args = parser.parse_args('zinc 15 20'.split())"
   ]
  },
  {
   "cell_type": "code",
   "execution_count": 20,
   "metadata": {
    "collapsed": false
   },
   "outputs": [
    {
     "data": {
      "text/plain": [
       "Namespace(batch_size=50, conv=1, data_id='zinc', epochs=50, fc=1, filter_size=20, filters=15, mode='unsupervised', optimizer='nadam')"
      ]
     },
     "execution_count": 20,
     "metadata": {},
     "output_type": "execute_result"
    }
   ],
   "source": [
    "args"
   ]
  },
  {
   "cell_type": "code",
   "execution_count": 24,
   "metadata": {
    "collapsed": false
   },
   "outputs": [
    {
     "data": {
      "text/plain": [
       "{'batch_size': 50,\n",
       " 'conv': 1,\n",
       " 'data_id': 'zinc',\n",
       " 'epochs': 50,\n",
       " 'fc': 1,\n",
       " 'filter_size': 20,\n",
       " 'filters': 15,\n",
       " 'mode': 'unsupervised',\n",
       " 'optimizer': 'nadam'}"
      ]
     },
     "execution_count": 24,
     "metadata": {},
     "output_type": "execute_result"
    }
   ],
   "source": [
    "args.__dict__"
   ]
  },
  {
   "cell_type": "code",
   "execution_count": null,
   "metadata": {
    "collapsed": true
   },
   "outputs": [],
   "source": []
  }
 ],
 "metadata": {
  "kernelspec": {
   "display_name": "Python 3",
   "language": "python",
   "name": "python3"
  },
  "language_info": {
   "codemirror_mode": {
    "name": "ipython",
    "version": 3
   },
   "file_extension": ".py",
   "mimetype": "text/x-python",
   "name": "python",
   "nbconvert_exporter": "python",
   "pygments_lexer": "ipython3",
   "version": "3.5.2"
  }
 },
 "nbformat": 4,
 "nbformat_minor": 1
}
